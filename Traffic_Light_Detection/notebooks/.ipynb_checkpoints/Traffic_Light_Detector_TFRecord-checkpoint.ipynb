{
 "cells": [
  {
   "cell_type": "markdown",
   "metadata": {
    "colab_type": "text",
    "id": "UW10JV0wJqOp"
   },
   "source": [
    "## Environment Preparation"
   ]
  },
  {
   "cell_type": "code",
   "execution_count": 0,
   "metadata": {
    "colab": {},
    "colab_type": "code",
    "id": "oCd1KmNZLs3T"
   },
   "outputs": [],
   "source": [
    "!git clone --quiet https://github.com/ilopezfr/Traffic_Light_Detection.git tfd\n",
    "  \n",
    "!cp -r tfd/config config\n",
    "\n",
    "!git clone --quiet https://github.com/tensorflow/models.git tf_models\n",
    "  \n",
    "!cp -r tf_models/research/object_detection object_detection/\n",
    "\n",
    "!cp -r tf_models/research/slim slim/\n",
    "\n",
    "!cp tfd/model_main.py object_detection/model_main.py\n",
    "\n",
    "!rm -rf tfd\n",
    "\n",
    "!rm -rf tf_models\n",
    "\n",
    "!apt-get install -qq protobuf-compiler python-tk\n",
    "\n",
    "!pip install -q Cython contextlib2 pillow lxml matplotlib PyDrive\n",
    "\n",
    "!pip install -q pycocotools\n",
    "\n",
    "!git clone https://github.com/cocodataset/cocoapi.git\n",
    "\n",
    "%cd cocoapi/PythonAPI\n",
    "\n",
    "!make\n",
    "\n",
    "%cd /content\n",
    "\n",
    "!cp -r cocoapi/PythonAPI/pycocotools pycocotools/\n",
    "\n",
    "!rm -rf cocoapi\n",
    "\n",
    "!protoc object_detection/protos/*.proto --python_out=.\n",
    "\n",
    "%set_env PYTHONPATH=/content:/content/slim"
   ]
  },
  {
   "cell_type": "markdown",
   "metadata": {
    "colab_type": "text",
    "id": "QCLEb2sRC_Ta"
   },
   "source": [
    "## Download datasets"
   ]
  },
  {
   "cell_type": "code",
   "execution_count": 0,
   "metadata": {
    "colab": {},
    "colab_type": "code",
    "id": "sRCiwDDJDuF3"
   },
   "outputs": [],
   "source": [
    "# Install PyDrive\n",
    "!pip install -U -q PyDrive"
   ]
  },
  {
   "cell_type": "code",
   "execution_count": 4,
   "metadata": {
    "colab": {
     "base_uri": "https://localhost:8080/",
     "height": 34
    },
    "colab_type": "code",
    "id": "U-N1uktVBZlZ",
    "outputId": "c6444920-1506-41e1-e1b7-e19e7c9e29db"
   },
   "outputs": [
    {
     "name": "stdout",
     "output_type": "stream",
     "text": [
      "/content/Traffic_Light_Detection\n"
     ]
    }
   ],
   "source": [
    "import os\n",
    "from zipfile import ZipFile\n",
    "from shutil import copy\n",
    "from pydrive.auth import GoogleAuth\n",
    "from pydrive.drive import GoogleDrive\n",
    "from google.colab import auth\n",
    "from oauth2client.client import GoogleCredentials\n",
    "\n",
    "auth.authenticate_user()\n",
    "gauth = GoogleAuth()\n",
    "gauth.credentials = GoogleCredentials.get_application_default()\n",
    "drive = GoogleDrive(gauth)\n",
    "\n",
    "# simulator data\n",
    "# File url: https://drive.google.com/open?id=1-G066U5BUUNPvdinWrALX5XWcw7TioeY\n",
    "simulator_file_id = '1-G066U5BUUNPvdinWrALX5XWcw7TioeY' \n",
    "\n",
    "data_dir = 'data'\n",
    "\n",
    "%cd /content/Traffic_Light_Detection\n",
    "\n",
    "if not os.path.isdir(data_dir):\n",
    "  os.makedirs(data_dir)\n",
    "\n",
    "downloaded = drive.CreateFile({'id': simulator_file_id})\n",
    "downloaded.GetContentFile(os.path.join(data_dir, 'simulator.zip'))\n",
    "#downloaded.GetContentFile(os.path.join(data_dir, 'mixed_train.record'))\n"
   ]
  },
  {
   "cell_type": "code",
   "execution_count": 19,
   "metadata": {
    "colab": {
     "base_uri": "https://localhost:8080/",
     "height": 34
    },
    "colab_type": "code",
    "id": "pFh3j_mHSnUz",
    "outputId": "b137d08c-311e-47b2-ac70-ef319ff4e1e7"
   },
   "outputs": [
    {
     "name": "stdout",
     "output_type": "stream",
     "text": [
      "/content/Traffic_Light_Detection\n"
     ]
    }
   ],
   "source": [
    "# carla_training data\n",
    "# File url: https://drive.google.com/open?id=1pk7RZYcP57dxs-xmAHcdHseZ__ZtZWgB\n",
    "carla_training_file_id = '1pk7RZYcP57dxs-xmAHcdHseZ__ZtZWgB' \n",
    "\n",
    "%cd /content/Traffic_Light_Detection\n",
    "downloaded = drive.CreateFile({'id': carla_training_file_id})\n",
    "downloaded.GetContentFile(os.path.join(data_dir, 'carla_training.zip'))"
   ]
  },
  {
   "cell_type": "code",
   "execution_count": 20,
   "metadata": {
    "colab": {
     "base_uri": "https://localhost:8080/",
     "height": 34
    },
    "colab_type": "code",
    "id": "e91r4zQ-TF5E",
    "outputId": "ee009c50-e29d-44b8-92c3-6010f8661fc2"
   },
   "outputs": [
    {
     "name": "stdout",
     "output_type": "stream",
     "text": [
      "/content/Traffic_Light_Detection\n"
     ]
    }
   ],
   "source": [
    "# carla_testing data\n",
    "# File url: https://drive.google.com/open?id=1A_lA1zdfRVDcaht2Z3z_iLkZHs7-QbbM\n",
    "carla_testing_file_id = '1A_lA1zdfRVDcaht2Z3z_iLkZHs7-QbbM' \n",
    "\n",
    "%cd /content/Traffic_Light_Detection\n",
    "downloaded = drive.CreateFile({'id': carla_testing_file_id})\n",
    "downloaded.GetContentFile(os.path.join(data_dir, 'carla_testing.zip'))"
   ]
  },
  {
   "cell_type": "code",
   "execution_count": 0,
   "metadata": {
    "colab": {},
    "colab_type": "code",
    "id": "t5VJjjKyBgrO"
   },
   "outputs": [],
   "source": [
    "# Unzip files\n",
    "%cd /content/Traffic_Light_Detection/data\n",
    "!unzip simulator.zip\n",
    "!unzip carla_training.zip \n",
    "!unzip carla_testing.zip "
   ]
  },
  {
   "cell_type": "markdown",
   "metadata": {
    "colab_type": "text",
    "id": "RYdGLtCGJEI8"
   },
   "source": [
    "## Convert images into TF Record files\n",
    "The python program create_tf_record.py already splits the images into training and evaluation TF Record files. By default is 75% for training and 25% for evaluation."
   ]
  },
  {
   "cell_type": "code",
   "execution_count": 0,
   "metadata": {
    "colab": {},
    "colab_type": "code",
    "id": "6-GeC-kkNOJg"
   },
   "outputs": [],
   "source": [
    "!protoc object_detection/protos/*.proto --python_out=."
   ]
  },
  {
   "cell_type": "markdown",
   "metadata": {
    "colab_type": "text",
    "id": "ag_7ZI3LPZdF"
   },
   "source": [
    "For example for the simulator only:"
   ]
  },
  {
   "cell_type": "code",
   "execution_count": 0,
   "metadata": {
    "colab": {},
    "colab_type": "code",
    "id": "968bs1UrF05j"
   },
   "outputs": [],
   "source": [
    "%cd /content/Traffic_Light_Detection/\n",
    "!python create_tf_record.py --data_dir=data/simulator \\\n",
    "                           --labels_dir=data/simulator/labels \\\n",
    "                           --labels_map_path=config/labels_map.pbtxt \\\n",
    "                           --output_path=data/simulator/simulator.record"
   ]
  },
  {
   "cell_type": "markdown",
   "metadata": {
    "colab_type": "text",
    "id": "ICodsVS-PdPn"
   },
   "source": [
    "For the mixed dataset\n",
    "\n",
    "First we need to create a single folder with all the images from carla and the simulator, along with their respective labels. \n",
    "\n",
    "```\n",
    "mixed\n",
    "    L labels\n",
    "         L img_01.xml\n",
    "         L img_02.xml\n",
    "         L ...\n",
    "    L img_01.jpg\n",
    "    L img_02.jpg\n",
    "    L ...\n",
    "    L mixed_train.record\n",
    "    L mixed_eval.record\n",
    "\n",
    "```"
   ]
  },
  {
   "cell_type": "code",
   "execution_count": 14,
   "metadata": {
    "colab": {
     "base_uri": "https://localhost:8080/",
     "height": 52
    },
    "colab_type": "code",
    "id": "2-9q4tGOQ4-f",
    "outputId": "263f294c-813f-400e-bf64-3ef7dd30d23d"
   },
   "outputs": [
    {
     "name": "stdout",
     "output_type": "stream",
     "text": [
      "/content/Traffic_Light_Detection/data\n",
      "mkdir: cannot create directory ‘mixed’: File exists\n"
     ]
    }
   ],
   "source": [
    "# Create the mixed dataset\n",
    "%cd /content/Traffic_Light_Detection/data/\n",
    "!mkdir mixed\n",
    "\n",
    "# Copy Simulator files\n",
    "%cp -a /content/Traffic_Light_Detection/data/simulator/. /content/Traffic_Light_Detection/data/mixed\n",
    "\n",
    "# Copy Carla_1 (aka carla_training) files\n",
    "%cp -a /content/Traffic_Light_Detection/data/carla_training/. /content/Traffic_Light_Detection/data/mixed\n",
    "\n",
    "# Copy Carla_2 (aka carla_testing) files\n",
    "%cp -a /content/Traffic_Light_Detection/data/carla_testing/. /content/Traffic_Light_Detection/data/mixed\n"
   ]
  },
  {
   "cell_type": "code",
   "execution_count": 23,
   "metadata": {
    "colab": {
     "base_uri": "https://localhost:8080/",
     "height": 176
    },
    "colab_type": "code",
    "id": "l047v80HBgwG",
    "outputId": "c747a487-afaf-46da-911d-f9822e1cb9f6"
   },
   "outputs": [
    {
     "name": "stdout",
     "output_type": "stream",
     "text": [
      "/content/Traffic_Light_Detection\n",
      "Total samples: 422\n",
      "Converting:   0% 0/316 [00:00<?, ? images/s]/content/Traffic_Light_Detection/object_detection/utils/dataset_util.py:75: FutureWarning: The behavior of this method will change in future versions. Use specific 'len(elem)' or 'elem is not None' test instead.\n",
      "  if not xml:\n",
      "Converting: 100% 316/316 [00:00<00:00, 967.13 images/s]\n",
      "TF record file for training created with 316 samples: data/mixed/mixed_train.record\n",
      "Converting: 100% 106/106 [00:00<00:00, 1020.48 images/s]\n",
      "TF record file for validation created with 106 samples: data/mixed/mixed_eval.record\n"
     ]
    }
   ],
   "source": [
    "%cd /content/Traffic_Light_Detection/\n",
    "!python create_tf_record.py --data_dir=data/mixed \\\n",
    "                           --labels_dir=data/mixed/labels \\\n",
    "                           --labels_map_path=config/labels_map.pbtxt \\\n",
    "                           --output_path=data/mixed/mixed.record"
   ]
  },
  {
   "cell_type": "code",
   "execution_count": 0,
   "metadata": {
    "colab": {},
    "colab_type": "code",
    "id": "SN3t2xKFJukB"
   },
   "outputs": [],
   "source": []
  }
 ],
 "metadata": {
  "colab": {
   "collapsed_sections": [],
   "name": "Traffic_Light_Detector_TFRecord.ipynb",
   "provenance": [],
   "version": "0.3.2"
  },
  "kernelspec": {
   "display_name": "Python 3",
   "language": "python",
   "name": "python3"
  },
  "language_info": {
   "codemirror_mode": {
    "name": "ipython",
    "version": 3
   },
   "file_extension": ".py",
   "mimetype": "text/x-python",
   "name": "python",
   "nbconvert_exporter": "python",
   "pygments_lexer": "ipython3",
   "version": "3.6.7"
  }
 },
 "nbformat": 4,
 "nbformat_minor": 1
}
